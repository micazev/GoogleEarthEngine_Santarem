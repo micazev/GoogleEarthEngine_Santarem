{
  "nbformat": 4,
  "nbformat_minor": 0,
  "metadata": {
    "colab": {
      "provenance": [],
      "mount_file_id": "1rQcaqbaWf88uezhvknWTGz0lMTHsKAQ_",
      "authorship_tag": "ABX9TyOjwCrCIOERVwT1/xDz8Bgh",
      "include_colab_link": true
    },
    "kernelspec": {
      "name": "python3",
      "display_name": "Python 3"
    },
    "language_info": {
      "name": "python"
    }
  },
  "cells": [
    {
      "cell_type": "markdown",
      "metadata": {
        "id": "view-in-github",
        "colab_type": "text"
      },
      "source": [
        "<a href=\"https://colab.research.google.com/github/micazev/GoogleEarthEngine_Santarem/blob/main/AnalisesSR_IC.ipynb\" target=\"_parent\"><img src=\"https://colab.research.google.com/assets/colab-badge.svg\" alt=\"Open In Colab\"/></a>"
      ]
    },
    {
      "cell_type": "code",
      "source": [
        "!pip install rasterio"
      ],
      "metadata": {
        "colab": {
          "base_uri": "https://localhost:8080/"
        },
        "id": "7xdzhFyHOS1N",
        "outputId": "a5f37c92-d909-4986-d45d-e0437feaf0ad"
      },
      "execution_count": 3,
      "outputs": [
        {
          "output_type": "stream",
          "name": "stdout",
          "text": [
            "Collecting rasterio\n",
            "  Downloading rasterio-1.3.8-cp310-cp310-manylinux_2_17_x86_64.manylinux2014_x86_64.whl (21.3 MB)\n",
            "\u001b[2K     \u001b[90m━━━━━━━━━━━━━━━━━━━━━━━━━━━━━━━━━━━━━━━━\u001b[0m \u001b[32m21.3/21.3 MB\u001b[0m \u001b[31m53.8 MB/s\u001b[0m eta \u001b[36m0:00:00\u001b[0m\n",
            "\u001b[?25hCollecting affine (from rasterio)\n",
            "  Downloading affine-2.4.0-py3-none-any.whl (15 kB)\n",
            "Requirement already satisfied: attrs in /usr/local/lib/python3.10/dist-packages (from rasterio) (23.1.0)\n",
            "Requirement already satisfied: certifi in /usr/local/lib/python3.10/dist-packages (from rasterio) (2023.7.22)\n",
            "Requirement already satisfied: click>=4.0 in /usr/local/lib/python3.10/dist-packages (from rasterio) (8.1.7)\n",
            "Requirement already satisfied: cligj>=0.5 in /usr/local/lib/python3.10/dist-packages (from rasterio) (0.7.2)\n",
            "Requirement already satisfied: numpy>=1.18 in /usr/local/lib/python3.10/dist-packages (from rasterio) (1.23.5)\n",
            "Collecting snuggs>=1.4.1 (from rasterio)\n",
            "  Downloading snuggs-1.4.7-py3-none-any.whl (5.4 kB)\n",
            "Requirement already satisfied: click-plugins in /usr/local/lib/python3.10/dist-packages (from rasterio) (1.1.1)\n",
            "Requirement already satisfied: setuptools in /usr/local/lib/python3.10/dist-packages (from rasterio) (67.7.2)\n",
            "Requirement already satisfied: pyparsing>=2.1.6 in /usr/local/lib/python3.10/dist-packages (from snuggs>=1.4.1->rasterio) (3.1.1)\n",
            "Installing collected packages: snuggs, affine, rasterio\n",
            "Successfully installed affine-2.4.0 rasterio-1.3.8 snuggs-1.4.7\n"
          ]
        }
      ]
    },
    {
      "cell_type": "code",
      "execution_count": 4,
      "metadata": {
        "id": "WCu2OI_9M7kU"
      },
      "outputs": [],
      "source": [
        "import rasterio\n",
        "import numpy as np"
      ]
    },
    {
      "cell_type": "markdown",
      "source": [
        "# Funções"
      ],
      "metadata": {
        "id": "eJiNCN0BRMTJ"
      }
    },
    {
      "cell_type": "code",
      "source": [
        "# A função para calcular as porcentagens das classes\n",
        "def calculate_class_percentages(class_array):\n",
        "    unique_classes, counts = np.unique(class_array, return_counts=True)\n",
        "    total_pixels = class_array.size\n",
        "    percentages = (counts / total_pixels) * 100\n",
        "    return dict(zip(unique_classes, percentages))\n"
      ],
      "metadata": {
        "id": "smKo0yTLRPTE"
      },
      "execution_count": 14,
      "outputs": []
    },
    {
      "cell_type": "markdown",
      "source": [
        "# Dados"
      ],
      "metadata": {
        "id": "A4-fcU_KRRLY"
      }
    },
    {
      "cell_type": "code",
      "source": [
        "# Ler as imagens classificadas\n",
        "with rasterio.open('/content/drive/MyDrive/IC/imagens santarem landsat/Santarem_LandsatClassificacao_2016.tif') as src1:\n",
        "    class_landsat = src1.read(1)\n",
        "\n",
        "with rasterio.open('/content/drive/MyDrive/IC/imagens santarem sentinel/Santarem_Sentinel2Classificacao_2016.tif') as src2:\n",
        "    class_sentinel = src2.read(1)"
      ],
      "metadata": {
        "id": "NPbwdLuRNKvk"
      },
      "execution_count": 5,
      "outputs": []
    },
    {
      "cell_type": "code",
      "source": [
        "# Certificar de que têm a mesma forma\n",
        "assert class_landsat.shape == class_sentinel.shape"
      ],
      "metadata": {
        "id": "ZHXjmIdBNPY4"
      },
      "execution_count": 6,
      "outputs": []
    },
    {
      "cell_type": "markdown",
      "source": [
        "# Análises"
      ],
      "metadata": {
        "id": "hJpZsV3LRTfX"
      }
    },
    {
      "cell_type": "code",
      "source": [
        "# Calcular porcentagens\n",
        "landsat_percentages = calculate_class_percentages(class_landsat)\n",
        "print(\"Porcentagens da imagem Landsat:\")\n",
        "print(landsat_percentages)\n",
        "\n",
        "sentinel_percentages = calculate_class_percentages(class_sentinel)\n",
        "print(\"Porcentagens da imagem Sentinel:\")\n",
        "print(sentinel_percentages)"
      ],
      "metadata": {
        "colab": {
          "base_uri": "https://localhost:8080/"
        },
        "id": "T_Jp4WckRbtV",
        "outputId": "05bf9de8-ff28-46db-affe-5888bb336dc2"
      },
      "execution_count": 15,
      "outputs": [
        {
          "output_type": "stream",
          "name": "stdout",
          "text": [
            "Porcentagens da imagem Landsat:\n",
            "{0: 41.2817749833587, 1: 7.5712527433418355, 2: 20.988377457474083, 3: 30.158594815825374}\n",
            "Porcentagens da imagem Sentinel:\n",
            "{0: 41.278973973677104, 1: 7.972785719464051, 2: 9.66097073109648, 3: 25.56378558106122, 4: 0.507641813472527, 5: 15.015842181228622}\n"
          ]
        }
      ]
    },
    {
      "cell_type": "code",
      "source": [
        "# Comparar as imagens\n",
        "diferencas = np.abs(class_landsat - class_sentinel)\n",
        "\n",
        "# Contar o número de pixels que são diferentes\n",
        "num_diferencas = np.count_nonzero(diferencas)\n",
        "num_diferencas"
      ],
      "metadata": {
        "colab": {
          "base_uri": "https://localhost:8080/"
        },
        "id": "wYUdoq1jPQ0s",
        "outputId": "d3ab8696-55a6-4673-97b5-fc52935894fe"
      },
      "execution_count": 11,
      "outputs": [
        {
          "output_type": "execute_result",
          "data": {
            "text/plain": [
              "602601"
            ]
          },
          "metadata": {},
          "execution_count": 11
        }
      ]
    }
  ]
}